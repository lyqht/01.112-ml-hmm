{
 "cells": [
  {
   "cell_type": "markdown",
   "metadata": {},
   "source": [
    "# 01.112 Machine Learning Design Project\n",
    "\n",
    "## About the Project\n",
    "\n",
    "We have 4 datasets in the `/data` folder. For each dataset, there is: \n",
    "- a labelled training set train, \n",
    "- an unlabelled development set `dev.in`\n",
    "- a labelled development set `dev.out` \n",
    "\n",
    "The labelled data has the format of: `token` `\\t` `tag`\n",
    "- one token per line\n",
    "- token and tag separated by tab \n",
    "- single empty lines that separates sentences\n",
    "\n",
    "For the labels, they are slightly different for different datasets.\n",
    "- SG, CN (Entity):\n",
    "    - B-*: Beginning of entity\n",
    "    - I-*: Inside of entity\n",
    "    - O: Outside of any entity\n",
    "- EN, AL (Phrase):\n",
    "    - B-VP: Beginning of Verb Phrase\n",
    "    - I-VP: Inside of Verb Phrase\n",
    "    - *-NP: Noun Phrase\n",
    "    - *PP: Propositional Phrase\n",
    "    - O: Outside of any phrase\n",
    "\n",
    "*Goal*: Build sequence labelling systems from training data (x) and use it to predict tag sequences for new sentences (y).\n",
    "\n",
    "## Team members \n",
    "- Andri Setiawan Susanto\n",
    "- Eldon Lim \n",
    "- Tey Siew Wen"
   ]
  },
  {
   "cell_type": "markdown",
   "metadata": {},
   "source": [
    "## Part 1\n",
    "Already completed individually."
   ]
  },
  {
   "cell_type": "markdown",
   "metadata": {},
   "source": [
    "## Part 2"
   ]
  },
  {
   "cell_type": "markdown",
   "metadata": {},
   "source": [
    "a) Write a function that estimates the emission parameters from the training set using MLE (maximum likelihood estimation):"
   ]
  },
  {
   "cell_type": "markdown",
   "metadata": {},
   "source": [
    "b)\n",
    "\n",
    "1. Make a modified training set by replacing those words that appear $<k$ times in the training set with a special word token `#UNK#` before training.\n",
    "2. During testing phase, ifaworddoesnot appear in the modified training set, we also replace that wordwith `#UNK#`.\n",
    "3. Compute Emission Paramters with the function in (a)"
   ]
  },
  {
   "cell_type": "markdown",
   "metadata": {},
   "source": [
    "For all the four datasets EN, AL, CN, and SG, learn these parameters with `train`, and evaluate your\n",
    "system on the development set `dev.in` for each of the dataset. Write your output to `dev.p2.out`\n",
    "for the four datasets respectively. Compare your outputs and the gold-standard outputs in `dev.out`\n",
    "and report the precision, recall and F scores of such a baseline system for each dataset."
   ]
  },
  {
   "cell_type": "code",
   "execution_count": 6,
   "metadata": {},
   "outputs": [],
   "source": [
    "import numpy as np\n",
    "import pandas as pd\n",
    "from collections import defaultdict, Counter\n",
    "\n",
    "def emissionPara(arr, k, replaceWord):\n",
    "    x_counter = defaultdict(int)\n",
    "    y_counter = defaultdict(int)\n",
    "    xy_counter = defaultdict(int)\n",
    "    x_labels = defaultdict(list)\n",
    "    emission_params = {}\n",
    "    xy_dict = {}\n",
    "\n",
    "    for x_y in arr:\n",
    "        x, y = x_y[0].split(\" \")\n",
    "        x_counter[x] += 1\n",
    "        y_counter[y] += 1\n",
    "        xy_counter[x,y] += 1\n",
    "        if y not in x_labels[x]:\n",
    "            x_labels[x].append(y)\n",
    "\n",
    "    x_to_remove = [x for x in x_counter if x_counter[x] < k]\n",
    "\n",
    "    for r in x_to_remove:\n",
    "        count = x_counter[r]\n",
    "        for label in x_labels[r]:\n",
    "            x_labels[replaceWord] += x_labels[r]\n",
    "            xy_counter[replaceWord, label] += count\n",
    "        del x_labels[r]\n",
    "        del x_counter[r]\n",
    "\n",
    "    for x_y, x_y_count in xy_counter.items():\n",
    "        y = x_y[1]\n",
    "        emission_params[x_y] = x_y_count / y_counter[y]\n",
    "\n",
    "    # get best labels\n",
    "    for x, labels in x_labels.items():\n",
    "        emission_probs = np.zeros(len(labels))\n",
    "        for i in range(len(labels)):\n",
    "            label = labels[i]\n",
    "            if (x,label) in xy_counter:\n",
    "                emission_probs[i] = xy_counter[x,label]\n",
    "        xy_dict[x] = labels[np.argmax(emission_probs)]\n",
    "    \n",
    "    return emission_params, x_counter.keys(), xy_dict\n",
    "\n",
    "def predict(data, xy_dict, replaceWord):\n",
    "    print(\"Predicting labels\")\n",
    "    start = time.process_time()\n",
    "    result = pd.DataFrame()\n",
    "    \n",
    "    def replace_string(x):\n",
    "        if x not in xy_dict:\n",
    "            return \"{} {}\".format(replaceWord, xy_dict[replaceWord])\n",
    "        else:\n",
    "            return \"{} {}\".format(x, xy_dict[x])\n",
    "         \n",
    "    return data[\"x\"].apply(lambda s: replace_string(s) if str(s) != \"nan\" else \" \")"
   ]
  },
  {
   "cell_type": "code",
   "execution_count": 39,
   "metadata": {},
   "outputs": [
    {
     "name": "stdout",
     "output_type": "stream",
     "text": [
      "('#UNK#', 'B-NP') 0.09402811542120283\n",
      "('#UNK#', 'I-NP') 0.1504094081441996\n",
      "('#UNK#', 'I-ADJP') 0.2961672473867596\n",
      "('#UNK#', 'B-ADVP') 0.0726507713884993\n",
      "('#UNK#', 'B-VP') 0.08871365204534254\n",
      "('#UNK#', 'I-VP') 0.12324047642484497\n",
      "('#UNK#', 'B-ADJP') 0.1901770416904626\n",
      "('#UNK#', 'O') 0.0030160857908847183\n",
      "('#UNK#', 'B-PP') 0.0028280850600968075\n",
      "('#UNK#', 'I-ADVP') 0.09917355371900827\n",
      "('#UNK#', 'B-INTJ') 0.4230769230769231\n",
      "('#UNK#', 'I-UCP') 0.5\n",
      "('#UNK#', 'B-SBAR') 0.001579778830963665\n",
      "('#UNK#', 'I-INTJ') 0.5714285714285714\n",
      "('#UNK#', 'B-LST') 0.18181818181818182\n"
     ]
    }
   ],
   "source": [
    "for k,v in emission_dict.items():\n",
    "    if \"#UNK#\" in k:\n",
    "        print(k,v)"
   ]
  },
  {
   "cell_type": "code",
   "execution_count": 94,
   "metadata": {},
   "outputs": [
    {
     "name": "stdout",
     "output_type": "stream",
     "text": [
      "Performing sentiment analysis for data folder  SG\n",
      "Predicting labels\n",
      "0                Tour O\n",
      "1    Scotland B-neutral\n",
      "2           followers O\n",
      "Name: x, dtype: object\n",
      "Writing the final result to dev.p2.out...\n"
     ]
    }
   ],
   "source": [
    "from csv import QUOTE_NONE\n",
    "import time\n",
    "\n",
    "k = 3\n",
    "replaceWord = \"#UNK#\"\n",
    "data_folders = [\"AL\", \"EN\",\"CN\",\"SG\"]\n",
    "for x in [\"SG\"]:\n",
    "    print(\"Performing sentiment analysis for data folder \", x)\n",
    "    train_data = \"./data/{}/train\".format(x)\n",
    "    test_data = \"./data/{}/dev.in\".format(x)\n",
    "    test_result = \"./data/{}/dev.out\".format(x)\n",
    "    \n",
    "    train_data = pd.read_csv(train_data, sep='\\r\\n', names=['x_y'],index_col=False, engine=\"python\", encoding=\"UTF-8\").to_numpy()\n",
    "    emission_dict, valid_x, xy_dict = emissionPara(train_data, k, replaceWord)\n",
    "\n",
    "    test_data = pd.read_csv(test_data, sep='\\r\\n', names=['x'],index_col=False,skip_blank_lines=False, engine=\"python\", encoding=\"UTF-8\")\n",
    "    testdf = predict(test_data, xy_dict, replaceWord)\n",
    "    print(testdf.head(3))\n",
    "    \n",
    "    print(\"Writing the final result to dev.p2.out...\")\n",
    "    testdf.to_csv('./output/{}/dev.p2.out'.format(x), header=False, index=False, na_rep=\"\", sep=\"\\n\", quoting=QUOTE_NONE)"
   ]
  },
  {
   "cell_type": "markdown",
   "metadata": {},
   "source": [
    "## Part 3"
   ]
  },
  {
   "cell_type": "markdown",
   "metadata": {},
   "source": [
    "Write a function that estimates the transition parameters from the training set using MLE (maximum likelihood estimation):"
   ]
  },
  {
   "cell_type": "code",
   "execution_count": 41,
   "metadata": {},
   "outputs": [],
   "source": [
    "def split_into_columns(df_column):\n",
    "    new = df_column.str.split(\" \", n=1, expand=True)\n",
    "    return new[0], new[1]"
   ]
  },
  {
   "cell_type": "code",
   "execution_count": 53,
   "metadata": {},
   "outputs": [],
   "source": [
    "from collections import Counter, defaultdict\n",
    "\n",
    "def transitionPara(data):\n",
    "    train_data_blank=pd.read_csv(data, sep='/n', delimiter=None, names=['original'],index_col=False, engine=\"python\", skip_blank_lines=False)\n",
    "    x, y = split_into_columns(train_data_blank[\"original\"])\n",
    "    xy_dic = dict(zip(x, y))\n",
    "    \n",
    "    # Get bottom count (Count(yi))\n",
    "    y_count = Counter(y)\n",
    "    del y_count[np.nan]\n",
    "    # Get top count (Count(yi-1, yi))\n",
    "    subseq_count = defaultdict(int)\n",
    "    for i in range(len(y)-1):    \n",
    "        y1 = y[i]\n",
    "        y2 = y[i+1]\n",
    "        \n",
    "        if i == 0:\n",
    "            subseq_count[(\"START\", y1)] +=1\n",
    "            y_count[\"START\"] +=1\n",
    "        if str(y1) == \"nan\":\n",
    "            subseq_count[(\"START\", y2)] +=1\n",
    "            y_count[\"START\"] +=1\n",
    "        elif i == len(y)-1 or str(y2) == \"nan\":\n",
    "            subseq_count[(y1, \"END\")] +=1\n",
    "            y_count[\"END\"] +=1\n",
    "        else:\n",
    "            subseq_count[y1,y2] += 1\n",
    "    \n",
    "    # Calculation of transition params\n",
    "    transition_dict = {}\n",
    "    \n",
    "    for k,v in subseq_count.items():\n",
    "        y1 = k[0]\n",
    "        y2 = k[1]\n",
    "        transition_dict[y1,y2] = subseq_count[y1,y2] / y_count[y1]\n",
    "        \n",
    "    del y_count[\"START\"]\n",
    "    del y_count[\"END\"]\n",
    "    del y_count[None]\n",
    "     \n",
    "    return transition_dict, subseq_count, y_count"
   ]
  },
  {
   "cell_type": "code",
   "execution_count": 54,
   "metadata": {},
   "outputs": [
    {
     "data": {
      "text/plain": [
       "dict_keys(['O', 'B-positive', 'I-positive', 'B-neutral', 'I-neutral', 'B-negative', 'I-negative'])"
      ]
     },
     "execution_count": 54,
     "metadata": {},
     "output_type": "execute_result"
    }
   ],
   "source": [
    "transition_dict, subseq_count, y_count = transitionPara(\"./data/SG/train\")\n",
    "y_count.keys()"
   ]
  },
  {
   "cell_type": "markdown",
   "metadata": {},
   "source": [
    "# Viterbi"
   ]
  },
  {
   "cell_type": "code",
   "execution_count": 95,
   "metadata": {},
   "outputs": [],
   "source": [
    "def viterbi(unique_word_list):\n",
    "    #This is for the starting for viterbi\n",
    "    global nodes\n",
    "    \n",
    "    num_nodes_per_col = len(nodes)\n",
    "    store=np.zeros(num_nodes_per_col)   #store = the storage for scores for all the nodes. \n",
    "    scorelist=np.zeros((num_nodes_per_col, len(unique_word_list) + 1))\n",
    "    \n",
    "    for i in range(num_nodes_per_col):\n",
    "#         print(\"Calculating for first column\")\n",
    "#         print(f\"Node {i}, {nodes[i]}, {unique_word_list[0]}\")\n",
    "        emission_score = emission(nodes[i],unique_word_list[0])\n",
    "        transition_score = transition(\"START\",nodes[i])\n",
    "        if transition_score == 0 or emission_score == 0:\n",
    "            store[i] = np.NINF\n",
    "        else:\n",
    "            store[i] = np.log(emission_score)+np.log(transition_score)\n",
    "#             print(store[i])\n",
    "    scorelist[:,0] = store\n",
    "    store = np.zeros(num_nodes_per_col)\n",
    "    score_per_node=np.zeros(num_nodes_per_col)\n",
    "    \n",
    "    #This is for the middle portion for viterbi\n",
    "    #score per node = prevnode*emission*transition\n",
    "\n",
    "    if len(unique_word_list)>1:\n",
    "        for j in range(len(unique_word_list)-1): #for the whole length in sentence\n",
    "            for k in range(num_nodes_per_col): #for each node\n",
    "                for l in range(num_nodes_per_col): #for 1 node, transition from prev node to current node\n",
    "                    prev_node = scorelist[l][j]\n",
    "                    emission_score = emission(nodes[k],unique_word_list[j+1])\n",
    "                    transition_score = transition(nodes[l],nodes[k])\n",
    "                    \n",
    "                    if transition_score == 0 or emission_score == 0:\n",
    "                        score_per_node[l] = np.NINF\n",
    "                    else:   \n",
    "                        score_per_node[l] = prev_node+np.log(emission_score)+np.log(transition_score) \n",
    "                \n",
    "                store[k] = np.max(score_per_node) # max path\n",
    "                score_per_node=np.zeros(num_nodes_per_col)\n",
    "            \n",
    "            scorelist[:,j+1] = store\n",
    "            store = np.zeros(num_nodes_per_col)\n",
    "                      \n",
    "        score_at_stop=np.zeros(num_nodes_per_col)\n",
    "        \n",
    "        #This is for the STOP for viterbi\n",
    "        for m in range(num_nodes_per_col):\n",
    "            score_at_stop[m] = np.log(transition(nodes[m],\"END\")) + scorelist[m][len(unique_word_list)-1]\n",
    "        scorelist[:,-1] = np.full(num_nodes_per_col,np.max(score_at_stop))\n",
    "        \n",
    "    return scorelist\n",
    "  \n",
    "def viterbi_backtrack(scorelist):\n",
    "    \"\"\"\n",
    "    back tracking for viterbi\n",
    "    node value*transition = array, then find max, then find position. use position for next step.\n",
    "    np.argmax returns index of max in the element.\n",
    "    The final score on the score list is for end\n",
    "    \"\"\" \n",
    "    global nodes\n",
    "    \n",
    "    scorelist = np.flip(scorelist,axis=1) #reverse the score list so easier to calculate.\n",
    "    \n",
    "    max_node_index = 0 \n",
    "    num_obs = scorelist.shape[1]\n",
    "    num_nodes = scorelist.shape[0]\n",
    "    node_holder = np.zeros(num_nodes)\n",
    "    path = []\n",
    "\n",
    "    if (num_obs == 1):\n",
    "        for k in range (num_nodes):\n",
    "            calculate_max_node = scorelist[0][k] + np.log(transition(nodes[k],\"END\"))\n",
    "            node_holder[i] = calculate_max_node\n",
    "        path.append(nodes[np.argmax(node_holder)])\n",
    "        return(path[::-1])\n",
    "\n",
    "    for i in range (1,num_obs): # for length of sentence\n",
    "        for j in range(num_nodes): #for each node\n",
    "            if (i==1):\n",
    "                calculate_max_node = scorelist[j][i] + np.log(transition(nodes[j],\"END\"))\n",
    "                node_holder[j] = calculate_max_node\n",
    "            else:\n",
    "                calculate_max_node = scorelist[j][i] + np.log(transition(nodes[j],nodes[max_node_index]))\n",
    "                node_holder[j] = calculate_max_node\n",
    "        \n",
    "        max_node_index=np.argmax(node_holder)\n",
    "        path.append(nodes[np.argmax(node_holder)])\n",
    "        node_holder=np.zeros(num_nodes)\n",
    "\n",
    "    return(path[::-1])\n",
    "\n",
    "def emission(node,word):\n",
    "    global emission_dict\n",
    "    global nodes\n",
    "    pair = word,node\n",
    "    detector = 0 # this is used to find if word exist in the dictionary\n",
    "    if pair not in emission_dict.keys(): #if the combination cannot be found in the dictionary\n",
    "                                         #Either the word exists, or word is new. \n",
    "        for o in nodes:\n",
    "            missing_pair = word,o\n",
    "            if missing_pair in emission_dict.keys(): #\n",
    "                detector = 1 # to detect if word exist in dictionary.\n",
    "                break\n",
    "        if detector == 1:\n",
    "            score=0   #this means that this node is not the correct node.\n",
    "        else:\n",
    "            replaced_text = \"#UNK#\",node\n",
    "            if replaced_text in emission_dict.keys():\n",
    "                score = emission_dict[replaced_text] #if label have #unk#\n",
    "                \n",
    "            else:\n",
    "                score = 0   #if label does not have #unk#, then set to 0.\n",
    "    else:\n",
    "        score = emission_dict[pair]\n",
    "    return score\n",
    "\n",
    "def transition(x1,x2):\n",
    "    global transition_dic\n",
    "    #will use this to search the transition from x1 to x2\n",
    "    pair = x1,x2\n",
    "    if pair not in transition_dic.keys():\n",
    "        score = 0\n",
    "    else:\n",
    "        score = transition_dic[x1,x2]\n",
    "    return score"
   ]
  },
  {
   "cell_type": "code",
   "execution_count": 96,
   "metadata": {},
   "outputs": [
    {
     "name": "stdout",
     "output_type": "stream",
     "text": [
      "Performing Viterbi\n",
      "Time taken for Viterbi and Backtrack 0.4466869831085205\n"
     ]
    },
    {
     "name": "stderr",
     "output_type": "stream",
     "text": [
      "/mnt/c/Users/estee/.venv/lib/python3.6/site-packages/ipykernel_launcher.py:49: RuntimeWarning: divide by zero encountered in log\n",
      "/mnt/c/Users/estee/.venv/lib/python3.6/site-packages/ipykernel_launcher.py:81: RuntimeWarning: divide by zero encountered in log\n",
      "/mnt/c/Users/estee/.venv/lib/python3.6/site-packages/ipykernel_launcher.py:84: RuntimeWarning: divide by zero encountered in log\n"
     ]
    }
   ],
   "source": [
    "# FOR TESTING ONLY.\n",
    "\n",
    "print(\"Performing Viterbi\")\n",
    "start = time.time()\n",
    "for i in range(1):\n",
    "    viterbioutput=viterbi(lines[i])\n",
    "    log_array.append(viterbioutput)\n",
    "    sequence_log.append(viterbi_backtrack(viterbioutput))\n",
    "end = time.time()\n",
    "\n",
    "print(\"Time taken for Viterbi and Backtrack\", end - start)"
   ]
  },
  {
   "cell_type": "code",
   "execution_count": 44,
   "metadata": {},
   "outputs": [],
   "source": [
    "def preprocess_training_blank_row(data):\n",
    "    start = time.process_time()   \n",
    "    \n",
    "    df= pd.read_csv(data, sep='/n', delimiter=None, names=['original'],index_col=False,engine=\"python\",skip_blank_lines=False)\n",
    "    # dropping null value columns to avoid errors \n",
    "    \n",
    "    # new data frame with split value columns \n",
    "    df[\"x\"], df[\"y\"] = split_into_columns(df[\"original\"])\n",
    "    return df"
   ]
  },
  {
   "cell_type": "code",
   "execution_count": 45,
   "metadata": {},
   "outputs": [],
   "source": [
    "def sentenceList(data):\n",
    "    lines=[]\n",
    "    line=[]\n",
    "    x= data\n",
    "    for label in x['x']:\n",
    "        if pd.isnull(label)==False:\n",
    "            line.append(label)\n",
    "        else:\n",
    "            lines.append(line)\n",
    "            line = []\n",
    "    return lines"
   ]
  },
  {
   "cell_type": "code",
   "execution_count": 46,
   "metadata": {},
   "outputs": [],
   "source": [
    "def finalresult(sequence_log,predata_blank):\n",
    "    dataframe = []\n",
    "    count=0\n",
    "    for i in range(len(sequence_log)):\n",
    "        for text in sequence_log[i]:\n",
    "            dataframe.append(text)\n",
    "            count+=1\n",
    "        dataframe.append(\"\")\n",
    "    dftest=pd.DataFrame(dataframe)\n",
    "    final = pd.DataFrame()\n",
    "    final['result'] = predata_blank['x'] + \" \" +dftest[0]\n",
    "    return final"
   ]
  },
  {
   "cell_type": "code",
   "execution_count": 98,
   "metadata": {},
   "outputs": [
    {
     "name": "stdout",
     "output_type": "stream",
     "text": [
      "Performing sentiment analysis for data folder  SG\n",
      "Performing Viterbi\n"
     ]
    },
    {
     "ename": "NameError",
     "evalue": "name 'curr_emission' is not defined",
     "output_type": "error",
     "traceback": [
      "\u001b[0;31m---------------------------------------------------------------------------\u001b[0m",
      "\u001b[0;31mNameError\u001b[0m                                 Traceback (most recent call last)",
      "\u001b[0;32m<ipython-input-98-8e22865b624c>\u001b[0m in \u001b[0;36m<module>\u001b[0;34m\u001b[0m\n\u001b[1;32m     19\u001b[0m     \u001b[0mstart\u001b[0m \u001b[0;34m=\u001b[0m \u001b[0mtime\u001b[0m\u001b[0;34m.\u001b[0m\u001b[0mtime\u001b[0m\u001b[0;34m(\u001b[0m\u001b[0;34m)\u001b[0m\u001b[0;34m\u001b[0m\u001b[0;34m\u001b[0m\u001b[0m\n\u001b[1;32m     20\u001b[0m     \u001b[0;32mfor\u001b[0m \u001b[0mi\u001b[0m \u001b[0;32min\u001b[0m \u001b[0mrange\u001b[0m\u001b[0;34m(\u001b[0m\u001b[0mlen\u001b[0m\u001b[0;34m(\u001b[0m\u001b[0mlines\u001b[0m\u001b[0;34m)\u001b[0m\u001b[0;34m)\u001b[0m\u001b[0;34m:\u001b[0m\u001b[0;34m\u001b[0m\u001b[0;34m\u001b[0m\u001b[0m\n\u001b[0;32m---> 21\u001b[0;31m         \u001b[0mviterbioutput\u001b[0m\u001b[0;34m=\u001b[0m\u001b[0mviterbi\u001b[0m\u001b[0;34m(\u001b[0m\u001b[0mlines\u001b[0m\u001b[0;34m[\u001b[0m\u001b[0mi\u001b[0m\u001b[0;34m]\u001b[0m\u001b[0;34m)\u001b[0m\u001b[0;34m\u001b[0m\u001b[0;34m\u001b[0m\u001b[0m\n\u001b[0m\u001b[1;32m     22\u001b[0m         \u001b[0mlog_array\u001b[0m\u001b[0;34m.\u001b[0m\u001b[0mappend\u001b[0m\u001b[0;34m(\u001b[0m\u001b[0mviterbioutput\u001b[0m\u001b[0;34m)\u001b[0m\u001b[0;34m\u001b[0m\u001b[0;34m\u001b[0m\u001b[0m\n\u001b[1;32m     23\u001b[0m         \u001b[0msequence_log\u001b[0m\u001b[0;34m.\u001b[0m\u001b[0mappend\u001b[0m\u001b[0;34m(\u001b[0m\u001b[0mviterbi_backtrack\u001b[0m\u001b[0;34m(\u001b[0m\u001b[0mviterbioutput\u001b[0m\u001b[0;34m)\u001b[0m\u001b[0;34m)\u001b[0m\u001b[0;34m\u001b[0m\u001b[0;34m\u001b[0m\u001b[0m\n",
      "\u001b[0;32m<ipython-input-95-847258f086e7>\u001b[0m in \u001b[0;36mviterbi\u001b[0;34m(unique_word_list)\u001b[0m\n\u001b[1;32m     35\u001b[0m                         \u001b[0mscore_per_node\u001b[0m\u001b[0;34m[\u001b[0m\u001b[0ml\u001b[0m\u001b[0;34m]\u001b[0m \u001b[0;34m=\u001b[0m \u001b[0mnp\u001b[0m\u001b[0;34m.\u001b[0m\u001b[0mNINF\u001b[0m\u001b[0;34m\u001b[0m\u001b[0;34m\u001b[0m\u001b[0m\n\u001b[1;32m     36\u001b[0m                     \u001b[0;32melse\u001b[0m\u001b[0;34m:\u001b[0m\u001b[0;34m\u001b[0m\u001b[0;34m\u001b[0m\u001b[0m\n\u001b[0;32m---> 37\u001b[0;31m                         \u001b[0mscore_per_node\u001b[0m\u001b[0;34m[\u001b[0m\u001b[0ml\u001b[0m\u001b[0;34m]\u001b[0m \u001b[0;34m=\u001b[0m \u001b[0mprev_node\u001b[0m\u001b[0;34m+\u001b[0m\u001b[0mnp\u001b[0m\u001b[0;34m.\u001b[0m\u001b[0mlog\u001b[0m\u001b[0;34m(\u001b[0m\u001b[0mcurr_emission\u001b[0m\u001b[0;34m)\u001b[0m\u001b[0;34m+\u001b[0m\u001b[0mnp\u001b[0m\u001b[0;34m.\u001b[0m\u001b[0mlog\u001b[0m\u001b[0;34m(\u001b[0m\u001b[0mcurr_transition\u001b[0m\u001b[0;34m)\u001b[0m\u001b[0;34m\u001b[0m\u001b[0;34m\u001b[0m\u001b[0m\n\u001b[0m\u001b[1;32m     38\u001b[0m \u001b[0;34m\u001b[0m\u001b[0m\n\u001b[1;32m     39\u001b[0m                 \u001b[0mstore\u001b[0m\u001b[0;34m[\u001b[0m\u001b[0mk\u001b[0m\u001b[0;34m]\u001b[0m \u001b[0;34m=\u001b[0m \u001b[0mnp\u001b[0m\u001b[0;34m.\u001b[0m\u001b[0mmax\u001b[0m\u001b[0;34m(\u001b[0m\u001b[0mscore_per_node\u001b[0m\u001b[0;34m)\u001b[0m \u001b[0;31m# max path\u001b[0m\u001b[0;34m\u001b[0m\u001b[0;34m\u001b[0m\u001b[0m\n",
      "\u001b[0;31mNameError\u001b[0m: name 'curr_emission' is not defined"
     ]
    }
   ],
   "source": [
    "import time\n",
    "\n",
    "data_folders = [\"AL\", \"EN\",\"CN\",\"SG\"]\n",
    "for x in [\"SG\"]:\n",
    "    print(\"Performing sentiment analysis for data folder \", x)\n",
    "    train_data = \"./data/{}/train\".format(x)\n",
    "    test_data = \"./data/{}/dev.in\".format(x)\n",
    "    \n",
    "    transition_dic, subseq_count, y_count = transitionPara(train_data)\n",
    "    predata_blank=preprocess_training_blank_row(train_data)\n",
    "    nodes = list(y_count.keys())\n",
    "    testdf_unprocess = pd.read_csv(test_data, sep='/n', delimiter=None, names=['x'],index_col=False,skip_blank_lines=False, engine=\"python\")\n",
    "    lines= sentenceList(testdf_unprocess)\n",
    "    \n",
    "    log_array =[]\n",
    "    sequence_log=[]\n",
    "    \n",
    "    print(\"Performing Viterbi\")\n",
    "    start = time.time()\n",
    "    for i in range(len(lines)):\n",
    "        viterbioutput=viterbi(lines[i])\n",
    "        log_array.append(viterbioutput)\n",
    "        sequence_log.append(viterbi_backtrack(viterbioutput))\n",
    "    end = time.time()\n",
    "    \n",
    "    print(\"Time taken for Viterbi and Backtrack\", end - start)\n",
    "    \n",
    "    result = finalresult(sequence_log,testdf_unprocess)\n",
    "    \n",
    "    print(\"Writing the final result to dev.p3.out...\")\n",
    "    f = open('./output/{}/dev.p3.out'.format(x) ,'w')\n",
    "    for word in result['result']:\n",
    "        if pd.isnull(word) == False:\n",
    "            f.write(word + '\\n')\n",
    "        else:\n",
    "            f.write(\"\" +\"\\n\")\n",
    "    f.close()\n",
    "    print(\"Finished Writing.\")"
   ]
  },
  {
   "cell_type": "code",
   "execution_count": 68,
   "metadata": {},
   "outputs": [
    {
     "name": "stdout",
     "output_type": "stream",
     "text": [
      "('Tour', 'O') 3.9368669696861246e-05\n",
      "('Tourism', 'O') 3.5789699724419313e-06\n",
      "('Tour', 'I-neutral') 0.00010585931297305881\n",
      "('Touring', 'O') 7.1579399448838625e-06\n",
      "('Tour', 'B-positive') 0.00013412017167381974\n",
      "(\"Tour's\", 'O') 3.5789699724419313e-06\n"
     ]
    }
   ],
   "source": [
    "# for debugging\n",
    "for key,val in emission_dict.items():\n",
    "    if key[0].startswith('Tour') :\n",
    "        print(key,val)"
   ]
  }
 ],
 "metadata": {
  "kernelspec": {
   "display_name": "Python 3",
   "language": "python",
   "name": "python3"
  },
  "language_info": {
   "codemirror_mode": {
    "name": "ipython",
    "version": 3
   },
   "file_extension": ".py",
   "mimetype": "text/x-python",
   "name": "python",
   "nbconvert_exporter": "python",
   "pygments_lexer": "ipython3",
   "version": "3.6.8"
  }
 },
 "nbformat": 4,
 "nbformat_minor": 2
}
